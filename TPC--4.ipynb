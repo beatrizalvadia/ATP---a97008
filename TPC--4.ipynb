{
 "cells": [
  {
   "cell_type": "code",
   "execution_count": null,
   "metadata": {},
   "outputs": [],
   "source": [
    "def menu():\n",
    "    print(\"\"\"\n",
    "Operações das Funções:\n",
    "(1) Fração na forma irredutível.\n",
    "(2) Somar frações.\n",
    "(3) Subtrair frações.\n",
    "(4) Multiplicar frações.\n",
    "(5) Dividir frações.\n",
    "(6) Encerrar o programa.\"\"\")\n",
    "\n",
    "def fração(numerador, denominador):\n",
    "    return [numerador, denominador]\n",
    "\n",
    "def MDC(resultado):\n",
    "    f=resultado.copy()\n",
    "    while(f[1] != 0):\n",
    "        resto = f[0] % f[1]\n",
    "        f[0] = f[1]\n",
    "        f[1] = resto\n",
    "  \n",
    "    return print(\"O resultado da operação foi\", str(int(resultado[0]/f[0]))+\"/\"+str(int(resultado[1]/f[0])),\".\")\n",
    "\n",
    "def soma(f1, f2):\n",
    "    resultado=[f1[0]*f2[1]+f2[0]*f1[1], f1[1]*f2[1]]\n",
    "    return MDC(resultado)\n",
    "    \n",
    "def multiplicar(f1, f2):\n",
    "    resultado=[f1[0]*f2[0], f1[1]*f2[1]]\n",
    "    return MDC(resultado)\n",
    "\n",
    "def subtrair(f1, f2):\n",
    "    resultado=[f1[0]*f2[1]-f2[0]*f1[1], f1[1]*f2[1]]\n",
    "    return MDC(resultado)\n",
    "\n",
    "def dividir(f1, f2):\n",
    "    f3=(f2[1],f2[0])\n",
    "    resultado=multiplicar(f1,f3)\n",
    "    return MDC(resultado)\n",
    "\n",
    "variável=\"1\"\n",
    "while variável!=\"0\":\n",
    "    menu()\n",
    "    opção_utilizador=input(\"Qual a sua opção: \")\n",
    "    \n",
    "    if opção_utilizador==\"6\":\n",
    "        variável=\"0\"\n",
    "        print(\"O programa encerrou. Obrigado e até à próxima.\")\n",
    "    \n",
    "    elif opção_utilizador==\"1\":\n",
    "        numerador=int(input(\"Introduza o valor do numerador: \"))\n",
    "        denominador=int(input(\"Introduza o valor do denominador: \"))\n",
    "        resultado=fração(numerador, denominador)\n",
    "        MDC(resultado)\n",
    "    \n",
    "    elif opção_utilizador==\"2\":\n",
    "        numerador_1=int(input(\"Introduza o valor do 1.º numerador: \"))\n",
    "        denominador_1=int(input(\"Introduza o valor do 1.º denominador: \"))\n",
    "        f1=fração(numerador_1, denominador_1)\n",
    "        numerador_2=int(input(\"Introduza o valor do 2.º numerador: \"))\n",
    "        denominador_2=int(input(\"Introduza o valor do 2.º denominador: \"))\n",
    "        f2=fração(numerador_2, denominador_2)\n",
    "        soma(f1, f2)\n",
    "        \n",
    "    elif opção_utilizador==\"3\":\n",
    "        numerador_1=int(input(\"Introduza o valor do 1.º numerador: \"))\n",
    "        denominador_1=int(input(\"Introduza o valor do 1.º denominador: \"))\n",
    "        f1=fração(numerador_1, denominador_1)\n",
    "        numerador_2=int(input(\"Introduza o valor do 2.º numerador: \"))\n",
    "        denominador_2=int(input(\"Introduza o valor do 2.º denominador: \"))\n",
    "        f2=fração(numerador_2, denominador_2)\n",
    "        subtrair(f1, f2)\n",
    "        \n",
    "    elif opção_utilizador==\"4\":\n",
    "        numerador_1=int(input(\"Introduza o valor do 1.º numerador: \"))\n",
    "        denominador_1=int(input(\"Introduza o valor do 1.º denominador: \"))\n",
    "        f1=fração(numerador_1, denominador_1)\n",
    "        numerador_2=int(input(\"Introduza o valor do 2.º numerador: \"))\n",
    "        denominador_2=int(input(\"Introduza o valor do 2.º denominador: \"))\n",
    "        f2=fração(numerador_2, denominador_2)\n",
    "        multiplicar(f1, f2)\n",
    "        \n",
    "    elif opção_utilizador==\"5\":\n",
    "        numerador_1=int(input(\"Introduza o valor do 1.º numerador: \"))\n",
    "        denominador_1=int(input(\"Introduza o valor do 1.º denominador: \"))\n",
    "        f1=fração(numerador_1, denominador_1)\n",
    "        numerador_2=int(input(\"Introduza o valor do 2.º numerador: \"))\n",
    "        denominador_2=int(input(\"Introduza o valor do 2.º denominador: \"))\n",
    "        f2=fração(denominador_2, numerador_2)\n",
    "        multiplicar(f1, f2)\n",
    "    \n",
    "    else:\n",
    "        print(\"A opção selecionada não é válida.\")"
   ]
  },
  {
   "cell_type": "markdown",
   "metadata": {},
   "source": [
    "# TPC4\n",
    "### Calculadora de Frações"
   ]
  },
  {
   "cell_type": "markdown",
   "metadata": {},
   "source": [
    "##### Autor: Beatriz Rente Alvadia, A97008\n",
    "##### Supervisor: José Carlos Leite Ramalho https://www.di.uminho.pt/~jcr/\n",
    "##### Data de início: 2021-11-6\n",
    "##### Data de fim: 2021-11-10"
   ]
  },
  {
   "cell_type": "markdown",
   "metadata": {},
   "source": [
    "##### **Resumo**:"
   ]
  },
  {
   "cell_type": "markdown",
   "metadata": {},
   "source": [
    "    Este trabalho tem por objetivo criar uma calculadora dedicada a frações e, desse modo, o raciocínio deste código passa por criar uma função para cada operação - soma, subtração, multiplicação, divisão - e, ainda, colocar frações e os resultados das operações anteriormente mencionadas na forma irredutível. \n",
    "    Para começar criei a função \"menu\" que trata de recolher a informação correspondente à escolha do utilizador. Para que o utilizador possa usufruir as vezes que quiser da calculadora, criei um ciclo while que permite a utilização da calculadora até o utilizador a querer encerrar.\n",
    "    De seguida, criei uma função, de nome fração, que tem como fim criar uma lista, sendo o 1º e o 2º elemento da lista o numerador e o denominador, respetivamente.\n",
    "    Posteriormente, criei a função de cada uma das operações, todas elas com o auxilio de listas. Cada função será chamada consoante a escolha do utilizador. É de notar que os resultados são apresentados na sua forma de fração mais simplificada, pelo que a função \"simplicar\" (colocar a fração no modo irredutível), é chamada em todas as operações aritméticas.\n",
    "    "
   ]
  }
 ],
 "metadata": {
  "kernelspec": {
   "display_name": "Python 3",
   "language": "python",
   "name": "python3"
  },
  "language_info": {
   "codemirror_mode": {
    "name": "ipython",
    "version": 3
   },
   "file_extension": ".py",
   "mimetype": "text/x-python",
   "name": "python",
   "nbconvert_exporter": "python",
   "pygments_lexer": "ipython3",
   "version": "3.8.3"
  }
 },
 "nbformat": 4,
 "nbformat_minor": 4
}
