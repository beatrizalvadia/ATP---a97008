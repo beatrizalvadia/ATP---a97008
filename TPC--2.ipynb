{
 "cells": [
  {
   "cell_type": "code",
   "execution_count": null,
   "metadata": {},
   "outputs": [],
   "source": [
    "print(\"   \")\n",
    "print(\"Olá! Pense num número entre 0 e 100. O computador tentará adivinhar!\")\n",
    "print('''\n",
    "      ''')\n",
    "b=50\n",
    "n=50\n",
    "def binario(b,n):\n",
    "    n=n//2\n",
    "    if n==0:\n",
    "        n=2\n",
    "    print(\"O seu número é \" +str(b)+ \"?\")\n",
    "    x=input(\"Escreva 1 se estiver abaixo ou 2 se estiver acima ou 3 se o computador tiver adivinhado o número.   \")\n",
    "    print(\"   \")\n",
    "    print(\"   \")\n",
    "    if x==str(1): \n",
    "        binario(b-n , n)\n",
    "    elif x==str(2):\n",
    "        binario(b+n, n) \n",
    "    elif x==str(3): \n",
    "        print(\"O computador adivinhou o número!\")\n",
    "\n",
    "    \n",
    "print(binario(b,n))"
   ]
  },
  {
   "cell_type": "markdown",
   "metadata": {},
   "source": [
    "# TPC2\n",
    "### Jogo Adivinha o número em que pensei"
   ]
  },
  {
   "cell_type": "markdown",
   "metadata": {},
   "source": [
    "#####  Autor: Beatriz Rente Alvadia, A97008\n",
    "##### Supervisor: José Carlos Leite Ramalho https://www.di.uminho.pt/~jcr/\n",
    "##### Data de início: 2021-10-15\n",
    "##### Data de fim: 2021-10-17\n",
    "\n"
   ]
  },
  {
   "cell_type": "markdown",
   "metadata": {},
   "source": [
    "##### **Resumo**:"
   ]
  },
  {
   "cell_type": "markdown",
   "metadata": {},
   "source": [
    "      Primeiramente começo por apresentar o jogo ao utilizador, desafiando-o a pensar num número que esteja compreendido no intervalo de 0 a 100.\n",
    "     Para desenvolver este jogo decidi recorrer a uma função recursiva, de nome 'binario'. \n",
    "     A lógica assenta na ideia de a cada tentativa reduzir o intervalo no qual o número escolhido está inserido. Por exemplo, a pesquisa do computador começa num intervalo de [0, 100]. Na 1ª tentativa o computador pergunta se o valor em questão se trata de 50. Caso não seja, o jogador irá informar se o seu número está acima ou abaixo de 50. O nosso intervalo ficará reduzido a metade: ou [0, 50] ou [50, 100]. E, assim, sucessivamente. \n",
    "     Neste seguimento de raciocínio, decidi criar duas variáveis, 'b' e 'n'. 'b' corresponderá ao valor médio do intervalo anterior e 'n' servirá de auxílio nos cálculos que determinam b. Na 1ª tentativa, b=50 e n=25. Pelo que, se o jogador inserir '1', o 'b' da 2ª tentativa será b=b-n=50-25=25, o valor médio do novo intervalo [0, 50]. Se o jogador inserir '2', o 'b' da 2ª tentativa será b=75, o valor médio do novo intervalo [50, 100]\n",
    "     É de notar que o computador apenas tem 7 tentativas, pois 2^7=128, ultrapassando os 100. Quando o número for adivinhado, o jogador deverá inserir '3'.\n"
   ]
  },
  {
   "cell_type": "code",
   "execution_count": null,
   "metadata": {},
   "outputs": [],
   "source": []
  }
 ],
 "metadata": {
  "kernelspec": {
   "display_name": "Python 3",
   "language": "python",
   "name": "python3"
  },
  "language_info": {
   "codemirror_mode": {
    "name": "ipython",
    "version": 3
   },
   "file_extension": ".py",
   "mimetype": "text/x-python",
   "name": "python",
   "nbconvert_exporter": "python",
   "pygments_lexer": "ipython3",
   "version": "3.8.3"
  }
 },
 "nbformat": 4,
 "nbformat_minor": 4
}
