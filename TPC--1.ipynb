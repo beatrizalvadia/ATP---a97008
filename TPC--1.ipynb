{
 "cells": [
  {
   "cell_type": "code",
   "execution_count": null,
   "metadata": {},
   "outputs": [],
   "source": [
    "def jogadorem1():\n",
    "    x=21\n",
    "    b=0\n",
    "    while x>1:\n",
    "        a=int(input(\"Quantos fósforos quer tirar? \"))   \n",
    "        b=5-a\n",
    "        x=x-a-b\n",
    "        print(\"Jogador 1:\", a)\n",
    "        print (\"Total de fósforos:\", x)\n",
    "    print(\"VOCÊ PERDEU ESTA PARTIDA.\")\n",
    " \n",
    "         \n",
    "          \n",
    "def jogadorem2():\n",
    "    print(\"    \")\n",
    "    x=21    \n",
    "    \n",
    "    \n",
    "    while x>1: \n",
    "       print(\"Jogador 1: 1\")\n",
    "       x=x-1\n",
    "       print(\"Total de fósforos:\", x) \n",
    "       a=int(input(\"Quantos fósforos quer tirar? \"))  \n",
    "       x=x-a\n",
    "       \n",
    "       if a!=4:\n",
    "           c=5-a-1\n",
    "           print(\"Jogador 1:\", c)\n",
    "           x=x-c\n",
    "           print(\"Total de fósforos:\", x)\n",
    "           while x>1:\n",
    "              a=int(input(\"Quantos fósforos quer tirar? \"))   \n",
    "              b=5-a\n",
    "              print(\"Jogador 1:\", b)\n",
    "              x=x-a-b\n",
    "              print (\"Total de fósforos:\", x)\n",
    "              \n",
    "              \n",
    "           print(\"VOCÊ PERDEU ESTA PARTIDA.\")       \n",
    "       elif x==1:\n",
    "           print(\"VOCÊ GANHOU ESTA PARTIDA.\")\n",
    "\n",
    "\n",
    "\n",
    "print(\"     \")\n",
    "print(\"     \")\n",
    "print(\"Olá! Bem-vindo ao jogo 21 FÓSFOROS!\")\n",
    "\n",
    "a=int(input(\"Selecione 1 para ser o Jogador 1, ou 2 para ser o Jogador 2:  \"))\n",
    "if a==1:\n",
    "    jogadorem1() \n",
    "elif a==2: \n",
    "    jogadorem2()\n",
    "else: \n",
    "    print(\"Por favor, selecione 1 ou 2.\")\n",
    "    "
   ]
  }
 ],
 "metadata": {
  "kernelspec": {
   "display_name": "Python 3",
   "language": "python",
   "name": "python3"
  },
  "language_info": {
   "codemirror_mode": {
    "name": "ipython",
    "version": 3
   },
   "file_extension": ".py",
   "mimetype": "text/x-python",
   "name": "python",
   "nbconvert_exporter": "python",
   "pygments_lexer": "ipython3",
   "version": "3.8.3"
  }
 },
 "nbformat": 4,
 "nbformat_minor": 4
}
