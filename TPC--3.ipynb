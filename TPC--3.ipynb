{
 "cells": [
  {
   "cell_type": "code",
   "execution_count": null,
   "metadata": {},
   "outputs": [],
   "source": [
    "lista=[7, 8, 2, 5, 6]\n",
    "\n",
    "def bubbleSort(lista):   \n",
    "    x=1     \n",
    "    while x==1:\n",
    "        i=1\n",
    "        for i in range(1, len(lista)):     \n",
    "            if lista[i]<(lista[i-1]):\n",
    "               t=lista[i-1]\n",
    "               j=lista[i]\n",
    "               lista[i-1]=j\n",
    "               lista[i]=t\n",
    "               print(lista)\n",
    "               bubbleSort(lista)\n",
    "            else:\n",
    "               x=0\n",
    "    return lista\n",
    "print(bubbleSort(lista))"
   ]
  },
  {
   "cell_type": "markdown",
   "metadata": {},
   "source": [
    "# TPC3\n",
    "### BubbleSort()"
   ]
  },
  {
   "cell_type": "markdown",
   "metadata": {},
   "source": [
    "##### Autor: Beatriz Rente Alvadia, A97008\n",
    "##### Supervisor: José Carlos Leite Ramalho https://www.di.uminho.pt/~jcr/\n",
    "##### Data de início: 2021-10-23\n",
    "##### Data de fim: 2021-10-25"
   ]
  },
  {
   "cell_type": "markdown",
   "metadata": {},
   "source": [
    "##### **Resumo**:"
   ]
  },
  {
   "cell_type": "markdown",
   "metadata": {},
   "source": [
    "         Criei uma função, de nome BubbleSort, que tem como objetivo ordenar uma lista. \n",
    "         Primeiramente comecei por criar um ciclo for, de forma a que a lista seja percorrida e, assim, verificar se a mesma está ordenada ou não e se é necessário recorrer a alterações relativamente à posição dos números na lista. A alteração/troca é feita com base na comparação de dois números. Neste caso, são comparados os elementos i e i-1. Se i for inferior a i-1, i-1 é igualado a uma variável temporária, t, e i será igualada a outra variável também temporária, j. Na posição i-1 passará a estar o valor de j e na posição i passará a estar o valor de t, efetuando-se, assim, a troca de posições de 2 números consecutivos, i e i-1.  \n",
    "         Sabendo que a certa altura a lista fica ordenada, é necessário dar fim ao ciclo for. Para tal, decidi criar uma variável x que toma o valor 1 sempre que ocorrem trocas de posição de números na ordenação dos mesmos ou que toma valor 0 quando não ocorrem trocas de posição. Assim, assumo que a variável x=1 para que a lista seja percorrida pelo menos uma vez. Se houver alterações de posições e, por isso, seja corrida a primeira condição, a função \"mãe\" é novamente chamada, pelo que x continuará a ser 1 e, enquanto isso acontecer, o ciclo for continuará a decorrer. Por outro lado, quando não são necessárias mais trocas de posições, x toma o valor de 0, dando por terminada a ordenação. Por fim é apresentada a lista ordenada."
   ]
  },
  {
   "cell_type": "code",
   "execution_count": null,
   "metadata": {},
   "outputs": [],
   "source": []
  }
 ],
 "metadata": {
  "kernelspec": {
   "display_name": "Python 3",
   "language": "python",
   "name": "python3"
  },
  "language_info": {
   "codemirror_mode": {
    "name": "ipython",
    "version": 3
   },
   "file_extension": ".py",
   "mimetype": "text/x-python",
   "name": "python",
   "nbconvert_exporter": "python",
   "pygments_lexer": "ipython3",
   "version": "3.8.3"
  }
 },
 "nbformat": 4,
 "nbformat_minor": 4
}
